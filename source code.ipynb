{
 "cells": [
  {
   "cell_type": "code",
   "execution_count": 2,
   "id": "09f5c3da",
   "metadata": {},
   "outputs": [
    {
     "name": "stderr",
     "output_type": "stream",
     "text": [
      "Exception in Tkinter callback\n",
      "Traceback (most recent call last):\n",
      "  File \"C:\\Users\\ziad\\anaconda3\\lib\\tkinter\\__init__.py\", line 1892, in __call__\n",
      "    return self.func(*args)\n",
      "  File \"C:\\Users\\ziad\\AppData\\Local\\Temp\\ipykernel_10924\\1168576807.py\", line 25, in alarm\n",
      "    playsound(r\"C:\\Users\\ziad\\Desktop\\data science\\sync\\alarm clock\\alarm_1.mp3\")\n",
      "  File \"C:\\Users\\ziad\\anaconda3\\lib\\site-packages\\playsound.py\", line 44, in _playsoundWin\n",
      "    _playsoundWin(tempPath, block)\n",
      "  File \"C:\\Users\\ziad\\anaconda3\\lib\\site-packages\\playsound.py\", line 73, in _playsoundWin\n",
      "    winCommand(u'play {}{}'.format(sound, ' wait' if block else ''))\n",
      "  File \"C:\\Users\\ziad\\anaconda3\\lib\\site-packages\\playsound.py\", line 56, in winCommand\n",
      "    errorCode = int(windll.winmm.mciSendStringW(command, buf, bufLen - 1, 0))  # use widestring version of the function\n",
      "KeyboardInterrupt\n"
     ]
    }
   ],
   "source": [
    "from playsound import playsound\n",
    "import time\n",
    "import tkinter as tk\n",
    "\n",
    "def alarm():\n",
    "    \n",
    "    # create an entry widget\n",
    "    minutes = int(min_entry.get())\n",
    "    seconds = int(sec_entry.get())\n",
    "    \n",
    "    total_seconds = minutes * 60 + seconds\n",
    "    \n",
    "    #start alarm loop\n",
    "    time_elapsed = 0\n",
    "    while time_elapsed < total_seconds:\n",
    "        time.sleep(1)\n",
    "        time_elapsed +=1\n",
    "        time_left = total_seconds - time_elapsed\n",
    "        minutes_left = time_left // 60\n",
    "        seconds_left = time_left % 60\n",
    "        \n",
    "        # Update the label\n",
    "        time_label.config(text=f\"Alarm will sound in: {minutes_left}:{seconds_left}\")\n",
    "        time_label.update()\n",
    "    playsound(r\"C:\\Users\\ziad\\Desktop\\data science\\sync\\alarm clock\\alarm_1.mp3\")  \n",
    "\n",
    "\n",
    "#create GUI \n",
    "window = tk.Tk()\n",
    "window.geometry(\"400x400\")\n",
    "window.title(\"Alarm Clock\")\n",
    "\n",
    "#create header label \n",
    "header_label = tk.Label(window, text=\"Alarm Clock\", font = (\"Arial\", 18))\n",
    "header_label.pack(side=\"top\")\n",
    "\n",
    "# Create the input fields and labels\n",
    "min_label = tk.Label(window, text=\"Minutes:\")\n",
    "min_label.pack()\n",
    "min_entry = tk.Entry(window, show=None)\n",
    "min_entry.pack()\n",
    "\n",
    "sec_label = tk.Label(window, text=\"Seconds:\")\n",
    "sec_label.pack()\n",
    "sec_entry = tk.Entry(window, show=None)\n",
    "sec_entry.pack()\n",
    "\n",
    "# Create the label to display the countdown\n",
    "time_label = tk.Label(window, text=\"\")\n",
    "time_label.pack()\n",
    "\n",
    "#create button to start the alarm\n",
    "button = tk.Button(window, text = \"Start\", command = alarm)\n",
    "button.pack()\n",
    "\n",
    "# Start the GUI event loop\n",
    "window.mainloop()"
   ]
  },
  {
   "cell_type": "code",
   "execution_count": null,
   "id": "bf9c2ad7",
   "metadata": {},
   "outputs": [],
   "source": []
  },
  {
   "cell_type": "code",
   "execution_count": null,
   "id": "7a5590bc",
   "metadata": {},
   "outputs": [],
   "source": []
  },
  {
   "cell_type": "code",
   "execution_count": null,
   "id": "a353a73f",
   "metadata": {},
   "outputs": [],
   "source": []
  },
  {
   "cell_type": "code",
   "execution_count": 30,
   "id": "8b89a9be",
   "metadata": {},
   "outputs": [],
   "source": []
  },
  {
   "cell_type": "code",
   "execution_count": null,
   "id": "be01858a",
   "metadata": {},
   "outputs": [],
   "source": []
  },
  {
   "cell_type": "code",
   "execution_count": 57,
   "id": "942dc094",
   "metadata": {},
   "outputs": [],
   "source": []
  },
  {
   "cell_type": "code",
   "execution_count": null,
   "id": "41a74409",
   "metadata": {},
   "outputs": [],
   "source": []
  }
 ],
 "metadata": {
  "kernelspec": {
   "display_name": "Python 3 (ipykernel)",
   "language": "python",
   "name": "python3"
  },
  "language_info": {
   "codemirror_mode": {
    "name": "ipython",
    "version": 3
   },
   "file_extension": ".py",
   "mimetype": "text/x-python",
   "name": "python",
   "nbconvert_exporter": "python",
   "pygments_lexer": "ipython3",
   "version": "3.9.12"
  }
 },
 "nbformat": 4,
 "nbformat_minor": 5
}
